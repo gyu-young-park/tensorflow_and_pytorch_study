{
 "cells": [
  {
   "cell_type": "markdown",
   "metadata": {},
   "source": [
    "# PyTorch Layer 이해하기"
   ]
  },
  {
   "cell_type": "markdown",
   "metadata": {},
   "source": [
    "# 예제 불러오기"
   ]
  },
  {
   "cell_type": "code",
   "execution_count": 27,
   "metadata": {},
   "outputs": [],
   "source": [
    "import torch\n",
    "from torchvision import datasets, transforms"
   ]
  },
  {
   "cell_type": "code",
   "execution_count": 28,
   "metadata": {},
   "outputs": [],
   "source": [
    "import numpy as np\n",
    "import matplotlib.pyplot as plt\n",
    "\n",
    "%matplotlib inline"
   ]
  },
  {
   "cell_type": "code",
   "execution_count": 29,
   "metadata": {},
   "outputs": [],
   "source": [
    "#실제 학습에서는 정규화도 해줘야 한다.\n",
    "train_loader = torch.utils.data.DataLoader(\n",
    "    datasets.MNIST('dataset', train=True, download=True,\n",
    "                   transform=transforms.Compose([\n",
    "                       transforms.ToTensor()\n",
    "                   ])),\n",
    "    batch_size=1)"
   ]
  },
  {
   "cell_type": "code",
   "execution_count": 30,
   "metadata": {},
   "outputs": [],
   "source": [
    "image, label = next(iter(train_loader))"
   ]
  },
  {
   "cell_type": "code",
   "execution_count": 31,
   "metadata": {},
   "outputs": [
    {
     "data": {
      "text/plain": [
       "(torch.Size([1, 1, 28, 28]), torch.Size([1]))"
      ]
     },
     "execution_count": 31,
     "metadata": {},
     "output_type": "execute_result"
    }
   ],
   "source": [
    "#배치 사이즈 채널, h, w 순서이다.\n",
    "image.shape , label.shape"
   ]
  },
  {
   "cell_type": "code",
   "execution_count": 32,
   "metadata": {},
   "outputs": [
    {
     "data": {
      "image/png": "[encoded data removed]",
      "text/plain": [
       "<Figure size 432x288 with 1 Axes>"
      ]
     },
     "metadata": {
      "needs_background": "light"
     },
     "output_type": "display_data"
    }
   ],
   "source": [
    "plt.imshow(image[0, 0 , : , :], 'gray')\n",
    "plt.show()"
   ]
  },
  {
   "cell_type": "markdown",
   "metadata": {},
   "source": [
    "# 각 Layer별 설명"
   ]
  },
  {
   "cell_type": "markdown",
   "metadata": {},
   "source": [
    "- Network 쌓기 위한 준비"
   ]
  },
  {
   "cell_type": "code",
   "execution_count": 33,
   "metadata": {},
   "outputs": [],
   "source": [
    "import torch\n",
    "import torch.nn as nn\n",
    "import torch.nn.functional as F"
   ]
  },
  {
   "cell_type": "markdown",
   "metadata": {},
   "source": [
    "### Convolution"
   ]
  },
  {
   "cell_type": "markdown",
   "metadata": {},
   "source": [
    "- in_channels: 받게 될 channel의 갯수\n",
    "- out_channels: 보내고 싶은 channel의 갯수  \n",
    "- kernel_size: 만들고 싶은 kernel(weights)의 사이즈"
   ]
  },
  {
   "cell_type": "code",
   "execution_count": 34,
   "metadata": {},
   "outputs": [
    {
     "data": {
      "text/plain": [
       "Conv2d(1, 20, kernel_size=(5, 5), stride=(1, 1))"
      ]
     },
     "execution_count": 34,
     "metadata": {},
     "output_type": "execute_result"
    }
   ],
   "source": [
    "#앞에서 채널을 몇개를 받을지를 지정해줘야 한다. 그리고 out_channel도 두어야 한다.\n",
    "#tensorflow는 filter를 만들었다.\n",
    "nn.Conv2d(in_channels = 1, out_channels = 20, kernel_size = 5, stride= 1)"
   ]
  },
  {
   "cell_type": "code",
   "execution_count": 35,
   "metadata": {},
   "outputs": [
    {
     "data": {
      "text/plain": [
       "Conv2d(1, 20, kernel_size=(5, 5), stride=(1, 1))"
      ]
     },
     "execution_count": 35,
     "metadata": {},
     "output_type": "execute_result"
    }
   ],
   "source": [
    "layer = nn.Conv2d(1,20,5,1).to(torch.device('cpu'))\n",
    "layer"
   ]
  },
  {
   "cell_type": "markdown",
   "metadata": {},
   "source": [
    "- weight 시각화를 위해 slice하고 numpy화"
   ]
  },
  {
   "cell_type": "code",
   "execution_count": 36,
   "metadata": {},
   "outputs": [
    {
     "data": {
      "text/plain": [
       "torch.Size([20, 1, 5, 5])"
      ]
     },
     "execution_count": 36,
     "metadata": {},
     "output_type": "execute_result"
    }
   ],
   "source": [
    "#5 5 짜리 필터를 갖고, 1개의 채널이다.\n",
    "weight = layer.weight\n",
    "weight.shape"
   ]
  },
  {
   "cell_type": "markdown",
   "metadata": {},
   "source": [
    "- 여기서 weight는 학습 가능한 상태이기 때문에 바로 numpy로 뽑아낼 수 없음\n",
    "- detach() method는 그래프에서 잠깐 빼서 gradient에 영향을 받지 않게 함"
   ]
  },
  {
   "cell_type": "code",
   "execution_count": 37,
   "metadata": {},
   "outputs": [
    {
     "data": {
      "text/plain": [
       "array([[[[-0.11335275,  0.08404292, -0.02927966,  0.12421931,\n",
       "          -0.17454135],\n",
       "         [-0.1931496 , -0.15728958,  0.19683804, -0.05225651,\n",
       "          -0.0431304 ],\n",
       "         [-0.02051263, -0.08299255,  0.03595321, -0.02146848,\n",
       "           0.00020957],\n",
       "         [-0.04137829,  0.12199916, -0.10654092, -0.18860696,\n",
       "          -0.05981779],\n",
       "         [ 0.06945802,  0.05743934,  0.07681729, -0.11951929,\n",
       "           0.19718303]]],\n",
       "\n",
       "\n",
       "       [[[-0.04369792, -0.00795391, -0.04794335, -0.05987731,\n",
       "           0.1704822 ],\n",
       "         [ 0.0815414 ,  0.02570012,  0.11297013, -0.10927965,\n",
       "          -0.03085682],\n",
       "         [ 0.18567733,  0.1669363 , -0.061551  ,  0.04870017,\n",
       "          -0.1479027 ],\n",
       "         [ 0.00367245, -0.05786204, -0.19612575,  0.05034165,\n",
       "          -0.07765871],\n",
       "         [ 0.12807561, -0.03054805, -0.03297488,  0.09525122,\n",
       "          -0.05394492]]],\n",
       "\n",
       "\n",
       "       [[[ 0.06390779, -0.1926163 ,  0.04115185, -0.08734498,\n",
       "          -0.0085599 ],\n",
       "         [ 0.1337976 ,  0.14765202, -0.04504569,  0.1518601 ,\n",
       "           0.10369991],\n",
       "         [-0.16419551, -0.1222636 , -0.19255137,  0.10214178,\n",
       "           0.09041612],\n",
       "         [ 0.08113195, -0.00595248, -0.07845881, -0.02731755,\n",
       "           0.04393117],\n",
       "         [ 0.03024216, -0.08971372, -0.01946941, -0.06118365,\n",
       "          -0.12643108]]],\n",
       "\n",
       "\n",
       "       [[[-0.19728671, -0.08551133,  0.11319114,  0.16458727,\n",
       "          -0.044696  ],\n",
       "         [ 0.17302768, -0.07915705, -0.14930975, -0.14345972,\n",
       "          -0.16258189],\n",
       "         [ 0.19319113,  0.15226947, -0.0365458 , -0.07587703,\n",
       "           0.08000092],\n",
       "         [ 0.16957746,  0.09680723, -0.10076125,  0.08432038,\n",
       "           0.07400437],\n",
       "         [ 0.15488802, -0.16601856, -0.00752223, -0.14918971,\n",
       "           0.17367764]]],\n",
       "\n",
       "\n",
       "       [[[ 0.19618349,  0.07589708,  0.07965423,  0.19566794,\n",
       "           0.01137647],\n",
       "         [ 0.07998921, -0.08555698,  0.09284724,  0.19952689,\n",
       "           0.08512177],\n",
       "         [-0.04910536, -0.155164  ,  0.16589864, -0.13505834,\n",
       "           0.14550354],\n",
       "         [-0.08655248,  0.13378806,  0.04783973, -0.14756432,\n",
       "          -0.08142485],\n",
       "         [ 0.09861232,  0.0193239 ,  0.17195834, -0.03511617,\n",
       "           0.13549794]]],\n",
       "\n",
       "\n",
       "       [[[-0.04282205, -0.08201335,  0.11816235,  0.17705719,\n",
       "          -0.17577659],\n",
       "         [ 0.06470336,  0.14281704,  0.09635691,  0.1753317 ,\n",
       "           0.07115237],\n",
       "         [-0.04683776, -0.00036296, -0.03864494, -0.15032253,\n",
       "           0.09890197],\n",
       "         [-0.06082766, -0.01545067,  0.16244344,  0.07578261,\n",
       "          -0.0283756 ],\n",
       "         [ 0.16965292,  0.03359182,  0.06809871,  0.11784925,\n",
       "           0.16629775]]],\n",
       "\n",
       "\n",
       "       [[[-0.19020025,  0.1748253 , -0.1621434 ,  0.06450696,\n",
       "           0.03115332],\n",
       "         [-0.03452587,  0.11619167,  0.11963303,  0.10690336,\n",
       "          -0.14499414],\n",
       "         [ 0.18622528, -0.02405548,  0.1004781 ,  0.0572312 ,\n",
       "           0.07256605],\n",
       "         [-0.18219268,  0.01739645,  0.11005114, -0.16619483,\n",
       "          -0.06961998],\n",
       "         [ 0.05272545, -0.06342804, -0.01655395,  0.05180611,\n",
       "           0.11598508]]],\n",
       "\n",
       "\n",
       "       [[[ 0.08402507, -0.10445304,  0.11459951, -0.05126898,\n",
       "          -0.06146815],\n",
       "         [-0.13600738, -0.09869547, -0.15360117, -0.17204933,\n",
       "          -0.06122251],\n",
       "         [ 0.12966923, -0.10547011,  0.0205826 ,  0.13621809,\n",
       "           0.15996681],\n",
       "         [ 0.14215405,  0.12359847, -0.09964605,  0.08860584,\n",
       "          -0.14307837],\n",
       "         [ 0.07871996,  0.11873986,  0.02423692, -0.17977448,\n",
       "          -0.058213  ]]],\n",
       "\n",
       "\n",
       "       [[[-0.12760502,  0.07562201, -0.0936456 ,  0.04566565,\n",
       "          -0.12828836],\n",
       "         [-0.07865713, -0.11465259, -0.11798725, -0.00393505,\n",
       "           0.1602145 ],\n",
       "         [ 0.1759441 ,  0.05345522,  0.09153302,  0.01504457,\n",
       "           0.04262359],\n",
       "         [-0.07676275,  0.03378952, -0.1608223 , -0.10246038,\n",
       "           0.07788558],\n",
       "         [ 0.13441087, -0.11027055,  0.02247731, -0.15026537,\n",
       "          -0.12089572]]],\n",
       "\n",
       "\n",
       "       [[[-0.11183029, -0.17198919,  0.02536337, -0.17976283,\n",
       "          -0.12274213],\n",
       "         [ 0.05371596,  0.03413896, -0.17355715,  0.11639668,\n",
       "           0.18449934],\n",
       "         [ 0.13600327,  0.15713371,  0.15222444, -0.14300382,\n",
       "           0.07151647],\n",
       "         [-0.09025814, -0.11347745,  0.01360926,  0.12903251,\n",
       "          -0.07172096],\n",
       "         [ 0.03132184, -0.04934692,  0.07905887,  0.09196629,\n",
       "           0.02611613]]],\n",
       "\n",
       "\n",
       "       [[[-0.15220638, -0.13620217, -0.05177939,  0.16143553,\n",
       "          -0.16371696],\n",
       "         [-0.12724003,  0.18542765,  0.04052857, -0.19382317,\n",
       "          -0.11628812],\n",
       "         [ 0.06985609,  0.08442427, -0.14471741, -0.02822196,\n",
       "          -0.07632976],\n",
       "         [ 0.19123341, -0.13694842,  0.07228856,  0.19423543,\n",
       "          -0.12982804],\n",
       "         [-0.09111114, -0.05950315,  0.04213209,  0.17768167,\n",
       "           0.14301391]]],\n",
       "\n",
       "\n",
       "       [[[ 0.0845847 ,  0.11830474,  0.05974282, -0.03793821,\n",
       "          -0.00511007],\n",
       "         [-0.02248001, -0.11274021,  0.06432699,  0.0674163 ,\n",
       "           0.15194292],\n",
       "         [-0.19121797, -0.06040044, -0.18599026, -0.11957488,\n",
       "          -0.18071103],\n",
       "         [-0.0675431 , -0.19104342,  0.12316136, -0.01287977,\n",
       "          -0.1961094 ],\n",
       "         [ 0.05020849,  0.09361233,  0.19997753, -0.166195  ,\n",
       "           0.1814266 ]]],\n",
       "\n",
       "\n",
       "       [[[-0.0392497 ,  0.16859262, -0.01428418, -0.19379242,\n",
       "          -0.06362781],\n",
       "         [ 0.10150234,  0.11615159, -0.02936597,  0.0373725 ,\n",
       "           0.01956582],\n",
       "         [ 0.06074022,  0.11659168,  0.10432439,  0.17444791,\n",
       "          -0.04691   ],\n",
       "         [ 0.13674124,  0.15587415, -0.02101192, -0.02802217,\n",
       "          -0.15583718],\n",
       "         [ 0.05149816,  0.14795806,  0.13671161,  0.05101992,\n",
       "           0.11414935]]],\n",
       "\n",
       "\n",
       "       [[[ 0.04546542, -0.12902138,  0.08970504, -0.15432878,\n",
       "           0.08289815],\n",
       "         [-0.11656993, -0.07366219,  0.05886452,  0.14850299,\n",
       "          -0.04589336],\n",
       "         [-0.16866216,  0.04601912,  0.06372757, -0.10374296,\n",
       "          -0.04521437],\n",
       "         [ 0.1604367 ,  0.14226516, -0.14924073, -0.05284147,\n",
       "          -0.07836628],\n",
       "         [-0.09684801,  0.07066374,  0.05873407,  0.02521133,\n",
       "           0.00308493]]],\n",
       "\n",
       "\n",
       "       [[[ 0.09570621,  0.12092404, -0.08033419, -0.14726384,\n",
       "          -0.01459858],\n",
       "         [ 0.02632132, -0.18884186,  0.08721183,  0.19610704,\n",
       "          -0.1875799 ],\n",
       "         [-0.13156982,  0.18743725,  0.18084474,  0.198361  ,\n",
       "           0.05364166],\n",
       "         [-0.06198156, -0.0286833 ,  0.0659178 ,  0.00285971,\n",
       "          -0.08580785],\n",
       "         [ 0.16937964, -0.13049024,  0.00996117,  0.19096611,\n",
       "           0.03388035]]],\n",
       "\n",
       "\n",
       "       [[[-0.0339653 , -0.16359279, -0.16887124,  0.0028501 ,\n",
       "           0.04918945],\n",
       "         [ 0.19480409,  0.01520661,  0.11451982,  0.05540647,\n",
       "           0.11608459],\n",
       "         [ 0.19690032,  0.12459995,  0.17528127, -0.09054253,\n",
       "           0.18689759],\n",
       "         [ 0.04761815,  0.18520896,  0.16677429,  0.02706759,\n",
       "           0.01920071],\n",
       "         [-0.0665029 ,  0.1102372 ,  0.14396654,  0.19246532,\n",
       "           0.0779479 ]]],\n",
       "\n",
       "\n",
       "       [[[ 0.00387399,  0.1402228 ,  0.11011364,  0.11997284,\n",
       "          -0.1165231 ],\n",
       "         [-0.17161892,  0.02755444,  0.06789695,  0.03792568,\n",
       "           0.06689699],\n",
       "         [-0.04685061, -0.1623431 , -0.14232126, -0.16743028,\n",
       "           0.06049596],\n",
       "         [ 0.12726454,  0.17929168, -0.13175556,  0.15322755,\n",
       "           0.13490404],\n",
       "         [ 0.0920011 , -0.15944418,  0.10622384,  0.07931493,\n",
       "          -0.07498059]]],\n",
       "\n",
       "\n",
       "       [[[-0.00788438, -0.07172576,  0.06138445,  0.06681909,\n",
       "          -0.02570352],\n",
       "         [-0.13712461, -0.10612996,  0.01757455,  0.01641616,\n",
       "           0.00480756],\n",
       "         [-0.05582266,  0.1152712 ,  0.06202628, -0.13933854,\n",
       "           0.08456622],\n",
       "         [ 0.15735303,  0.09528257, -0.07653101, -0.13389146,\n",
       "          -0.00303283],\n",
       "         [ 0.15816207, -0.15230997,  0.17509936, -0.0897898 ,\n",
       "          -0.16255113]]],\n",
       "\n",
       "\n",
       "       [[[-0.07166398, -0.00105388, -0.03848509,  0.07769693,\n",
       "           0.146316  ],\n",
       "         [-0.1172874 ,  0.03761068, -0.10722931, -0.08721662,\n",
       "           0.15026386],\n",
       "         [ 0.08978914, -0.16519633,  0.1715505 , -0.16704127,\n",
       "          -0.07396229],\n",
       "         [-0.05626741, -0.02198431, -0.12611517, -0.19589598,\n",
       "          -0.02037433],\n",
       "         [ 0.10329916, -0.14676265, -0.09274182, -0.02928722,\n",
       "          -0.1418139 ]]],\n",
       "\n",
       "\n",
       "       [[[-0.11156064, -0.02585816,  0.04049437, -0.10308178,\n",
       "          -0.12886722],\n",
       "         [ 0.03281386,  0.04689169, -0.01441768, -0.07483837,\n",
       "           0.1460204 ],\n",
       "         [-0.08083367, -0.18248676,  0.15243508,  0.17527898,\n",
       "           0.18068959],\n",
       "         [ 0.1719399 ,  0.05720793,  0.18476613,  0.16369428,\n",
       "           0.15766276],\n",
       "         [-0.18551233,  0.00403073,  0.00914061,  0.0062453 ,\n",
       "          -0.03020303]]]], dtype=float32)"
      ]
     },
     "execution_count": 37,
     "metadata": {},
     "output_type": "execute_result"
    }
   ],
   "source": [
    "#weight는 아직 train이 없는 상태라서 detach를 해주어야 numpy로 변형이 된다.\n",
    "weight = weight.detach().numpy()\n",
    "weight"
   ]
  },
  {
   "cell_type": "code",
   "execution_count": 39,
   "metadata": {},
   "outputs": [
    {
     "data": {
      "image/png": "[encoded data removed]",
      "text/plain": [
       "<Figure size 432x288 with 2 Axes>"
      ]
     },
     "metadata": {
      "needs_background": "light"
     },
     "output_type": "display_data"
    }
   ],
   "source": [
    "plt.imshow(weight[0,0,:,:],'jet')\n",
    "plt.colorbar()\n",
    "plt.show()"
   ]
  },
  {
   "cell_type": "code",
   "execution_count": null,
   "metadata": {},
   "outputs": [],
   "source": []
  },
  {
   "cell_type": "markdown",
   "metadata": {},
   "source": [
    "- output 시각화 준비를 위해 numpy화"
   ]
  },
  {
   "cell_type": "code",
   "execution_count": 40,
   "metadata": {},
   "outputs": [],
   "source": [
    "output_data = layer(image)"
   ]
  },
  {
   "cell_type": "code",
   "execution_count": 42,
   "metadata": {},
   "outputs": [],
   "source": [
    "output_data = output_data.data"
   ]
  },
  {
   "cell_type": "code",
   "execution_count": 43,
   "metadata": {},
   "outputs": [],
   "source": [
    "output = output_data.cpu().numpy()"
   ]
  },
  {
   "cell_type": "code",
   "execution_count": 44,
   "metadata": {},
   "outputs": [
    {
     "data": {
      "text/plain": [
       "(1, 20, 24, 24)"
      ]
     },
     "execution_count": 44,
     "metadata": {},
     "output_type": "execute_result"
    }
   ],
   "source": [
    "output.shape"
   ]
  },
  {
   "cell_type": "markdown",
   "metadata": {},
   "source": [
    "- Input으로 들어간 이미지 numpy화 "
   ]
  },
  {
   "cell_type": "code",
   "execution_count": 46,
   "metadata": {},
   "outputs": [
    {
     "data": {
      "text/plain": [
       "(1, 1, 28, 28)"
      ]
     },
     "execution_count": 46,
     "metadata": {},
     "output_type": "execute_result"
    }
   ],
   "source": [
    "image_arr = image.numpy()\n",
    "image_arr.shape"
   ]
  },
  {
   "cell_type": "code",
   "execution_count": 48,
   "metadata": {},
   "outputs": [
    {
     "data": {
      "image/png": "[encoded data removed]",
      "text/plain": [
       "<Figure size 1080x2160 with 3 Axes>"
      ]
     },
     "metadata": {
      "needs_background": "light"
     },
     "output_type": "display_data"
    }
   ],
   "source": [
    "plt.figure(figsize=(15,30))\n",
    "plt.subplot(131)\n",
    "plt.title('input')\n",
    "plt.imshow(np.squeeze(image_arr), 'gray')\n",
    "plt.subplot(132)\n",
    "plt.title('weight')\n",
    "plt.imshow(weight[0,0,:,:], 'jet')\n",
    "plt.subplot(133)\n",
    "plt.title('output')\n",
    "plt.imshow(output[0,0,:,:],'gray')\n",
    "plt.show()"
   ]
  },
  {
   "cell_type": "code",
   "execution_count": null,
   "metadata": {},
   "outputs": [],
   "source": []
  },
  {
   "cell_type": "code",
   "execution_count": null,
   "metadata": {},
   "outputs": [],
   "source": []
  },
  {
   "cell_type": "markdown",
   "metadata": {},
   "source": [
    "### Pooling"
   ]
  },
  {
   "cell_type": "markdown",
   "metadata": {},
   "source": [
    "input을 먼저 앞에 넣고, 뒤에 kernel 사이즈와 stride를 순서대로 넣음"
   ]
  },
  {
   "cell_type": "code",
   "execution_count": 49,
   "metadata": {},
   "outputs": [
    {
     "data": {
      "text/plain": [
       "torch.Size([1, 1, 28, 28])"
      ]
     },
     "execution_count": 49,
     "metadata": {},
     "output_type": "execute_result"
    }
   ],
   "source": [
    "#conv는 했으니 pooling을 해주자\n",
    "image.shape"
   ]
  },
  {
   "cell_type": "code",
   "execution_count": 50,
   "metadata": {},
   "outputs": [
    {
     "data": {
      "text/plain": [
       "torch.Size([1, 1, 14, 14])"
      ]
     },
     "execution_count": 50,
     "metadata": {},
     "output_type": "execute_result"
    }
   ],
   "source": [
    "#nn은 weight가 있는 것들\n",
    "#nn.functional은 maxpooling, activation function과 같이 nn에 사용되지만 weight는 없는 것들\n",
    "#2x2필터\n",
    "pool = F.max_pool2d(image, 2, 2)\n",
    "pool.shape"
   ]
  },
  {
   "cell_type": "markdown",
   "metadata": {},
   "source": [
    "- MaxPool Layer는 weight가 없기 때문에 바로 numpy()가 가능"
   ]
  },
  {
   "cell_type": "code",
   "execution_count": 53,
   "metadata": {},
   "outputs": [
    {
     "data": {
      "text/plain": [
       "(1, 1, 14, 14)"
      ]
     },
     "execution_count": 53,
     "metadata": {},
     "output_type": "execute_result"
    }
   ],
   "source": [
    "#weight가 없는 것들은 바로 numpy가능\n",
    "pool_arr = pool.numpy()\n",
    "pool_arr.shape"
   ]
  },
  {
   "cell_type": "code",
   "execution_count": 54,
   "metadata": {},
   "outputs": [
    {
     "data": {
      "text/plain": [
       "(1, 1, 28, 28)"
      ]
     },
     "execution_count": 54,
     "metadata": {},
     "output_type": "execute_result"
    }
   ],
   "source": [
    "image_arr.shape"
   ]
  },
  {
   "cell_type": "code",
   "execution_count": 56,
   "metadata": {},
   "outputs": [
    {
     "data": {
      "image/png": "[encoded data removed]",
      "text/plain": [
       "<Figure size 720x1080 with 2 Axes>"
      ]
     },
     "metadata": {
      "needs_background": "light"
     },
     "output_type": "display_data"
    }
   ],
   "source": [
    "plt.figure(figsize=(10,15))\n",
    "plt.subplot(121)\n",
    "plt.title(\"input\")\n",
    "plt.imshow(np.squeeze(image_arr), 'gray')\n",
    "plt.subplot(122)\n",
    "plt.title('output')\n",
    "plt.imshow(np.squeeze(pool_arr), 'gray')\n",
    "plt.show()"
   ]
  },
  {
   "cell_type": "markdown",
   "metadata": {},
   "source": [
    "### Linear"
   ]
  },
  {
   "cell_type": "markdown",
   "metadata": {},
   "source": [
    "nn.Linear는 2d가 아닌 1d만 들어가기 때문에 .view() 1D로 펼쳐줘야함"
   ]
  },
  {
   "cell_type": "code",
   "execution_count": 57,
   "metadata": {},
   "outputs": [
    {
     "data": {
      "text/plain": [
       "torch.Size([1, 1, 28, 28])"
      ]
     },
     "execution_count": 57,
     "metadata": {},
     "output_type": "execute_result"
    }
   ],
   "source": [
    "#펼친다음에 linear를 거치는 과정\n",
    "#따로 flatten 메서드가 없다 그래서,view나 reshape를 하자\n",
    "#neural network 부분이다.\n",
    "image.shape"
   ]
  },
  {
   "cell_type": "code",
   "execution_count": 59,
   "metadata": {},
   "outputs": [
    {
     "data": {
      "text/plain": [
       "torch.Size([1, 784])"
      ]
     },
     "execution_count": 59,
     "metadata": {},
     "output_type": "execute_result"
    }
   ],
   "source": [
    "#view로 선형화하되, 배치인 1은 없애면 안된다.\n",
    "flatten = image.view(1,28*28)\n",
    "flatten.shape"
   ]
  },
  {
   "cell_type": "code",
   "execution_count": 62,
   "metadata": {},
   "outputs": [
    {
     "data": {
      "text/plain": [
       "torch.Size([1, 10])"
      ]
     },
     "execution_count": 62,
     "metadata": {},
     "output_type": "execute_result"
    }
   ],
   "source": [
    "#784개를 받아서 10개로 내보는 것이다.\n",
    "lin = nn.Linear(784,10)(flatten)\n",
    "lin.shape"
   ]
  },
  {
   "cell_type": "code",
   "execution_count": 63,
   "metadata": {},
   "outputs": [
    {
     "data": {
      "text/plain": [
       "tensor([[ 0.0800,  0.1233,  0.1547, -0.0483, -0.1848,  0.2460,  0.0434, -0.1351,\n",
       "          0.1593,  0.0904]], grad_fn=<AddmmBackward>)"
      ]
     },
     "execution_count": 63,
     "metadata": {},
     "output_type": "execute_result"
    }
   ],
   "source": [
    "lin"
   ]
  },
  {
   "cell_type": "code",
   "execution_count": 64,
   "metadata": {},
   "outputs": [
    {
     "data": {
      "image/png": "[encoded data removed]",
      "text/plain": [
       "<Figure size 432x288 with 1 Axes>"
      ]
     },
     "metadata": {
      "needs_background": "light"
     },
     "output_type": "display_data"
    }
   ],
   "source": [
    "plt.imshow(lin.detach().numpy(), 'jet')\n",
    "plt.show()"
   ]
  },
  {
   "cell_type": "markdown",
   "metadata": {},
   "source": [
    "### Softmax"
   ]
  },
  {
   "cell_type": "markdown",
   "metadata": {},
   "source": [
    "결과를 numpy로 꺼내기 위해선 weight가 담긴 Linear에 weight를 꺼줘야함"
   ]
  },
  {
   "cell_type": "code",
   "execution_count": 65,
   "metadata": {},
   "outputs": [],
   "source": [
    "#detach를 해서 볼 수 있지만, with torch_no_grad으로도 볼 수 있다.\n",
    "with torch.no_grad():\n",
    "    flatten = image.view(1, 28 * 28)\n",
    "    lin = nn.Linear(784 , 10)(flatten)\n",
    "    softmax = F.softmax(lin, dim = 1)"
   ]
  },
  {
   "cell_type": "code",
   "execution_count": 66,
   "metadata": {},
   "outputs": [
    {
     "data": {
      "text/plain": [
       "tensor([[0.1019, 0.0985, 0.0929, 0.0882, 0.1045, 0.0987, 0.1149, 0.0909, 0.0971,\n",
       "         0.1124]])"
      ]
     },
     "execution_count": 66,
     "metadata": {},
     "output_type": "execute_result"
    }
   ],
   "source": [
    "softmax"
   ]
  },
  {
   "cell_type": "code",
   "execution_count": 68,
   "metadata": {},
   "outputs": [
    {
     "data": {
      "text/plain": [
       "1.0"
      ]
     },
     "execution_count": 68,
     "metadata": {},
     "output_type": "execute_result"
    }
   ],
   "source": [
    "#1에 가까운 수가 나와야 한다.\n",
    "np.sum(softmax.numpy())"
   ]
  },
  {
   "cell_type": "markdown",
   "metadata": {},
   "source": [
    "# Layer 쌓기"
   ]
  },
  {
   "cell_type": "markdown",
   "metadata": {},
   "source": [
    "예제 출처: https://pytorch.org/tutorials/beginner/pytorch_with_examples.html#id23"
   ]
  },
  {
   "cell_type": "markdown",
   "metadata": {},
   "source": [
    "nn 과 nn.functional의 차이점\n",
    "- nn은 학습 파라미터가 담긴 것 \n",
    "- nn.functional은 학습 파라미터가 없는 것이라 생각하면 간단"
   ]
  },
  {
   "cell_type": "code",
   "execution_count": null,
   "metadata": {},
   "outputs": [],
   "source": []
  },
  {
   "cell_type": "markdown",
   "metadata": {},
   "source": [
    "- Image를 Model에 넣어서 결과 확인"
   ]
  },
  {
   "cell_type": "code",
   "execution_count": null,
   "metadata": {},
   "outputs": [],
   "source": []
  },
  {
   "cell_type": "code",
   "execution_count": null,
   "metadata": {},
   "outputs": [],
   "source": []
  },
  {
   "cell_type": "code",
   "execution_count": null,
   "metadata": {},
   "outputs": [],
   "source": []
  },
  {
   "cell_type": "code",
   "execution_count": null,
   "metadata": {},
   "outputs": [],
   "source": []
  }
 ],
 "metadata": {
  "kernelspec": {
   "display_name": "Python 3",
   "language": "python",
   "name": "python3"
  },
  "language_info": {
   "codemirror_mode": {
    "name": "ipython",
    "version": 3
   },
   "file_extension": ".py",
   "mimetype": "text/x-python",
   "name": "python",
   "nbconvert_exporter": "python",
   "pygments_lexer": "ipython3",
   "version": "3.7.4"
  }
 },
 "nbformat": 4,
 "nbformat_minor": 2
}
